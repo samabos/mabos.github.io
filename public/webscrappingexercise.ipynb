{
  "nbformat": 4,
  "nbformat_minor": 0,
  "metadata": {
    "colab": {
      "provenance": []
    },
    "kernelspec": {
      "name": "python3",
      "display_name": "Python 3"
    },
    "language_info": {
      "name": "python"
    }
  },
  "cells": [
    {
      "cell_type": "code",
      "execution_count": 1,
      "metadata": {
        "id": "3BbiPEbXyb6l"
      },
      "outputs": [],
      "source": [
        "import requests\n",
        "import json\n",
        "from bs4 import BeautifulSoup"
      ]
    },
    {
      "cell_type": "code",
      "source": [
        "# Specify the URL of the webpage you want to scrape\n",
        "url = 'https://www.nigeriajob.com/job-vacancies-search-nigeria/data%20science?'\n",
        "\n",
        "# Send a GET request to the URL\n",
        "response = requests.get(url)"
      ],
      "metadata": {
        "id": "baSx4IuFypds"
      },
      "execution_count": 27,
      "outputs": []
    },
    {
      "cell_type": "code",
      "source": [
        "# Parse the HTML content using BeautifulSoup\n",
        "soup = BeautifulSoup(response.content, 'html.parser')\n",
        "\n",
        "# Find the relevant data on the webpage\n",
        "results = soup.find_all('div', class_='job-title')\n",
        "print(results);"
      ],
      "metadata": {
        "id": "3TDjhXmZytGl"
      },
      "execution_count": null,
      "outputs": []
    },
    {
      "cell_type": "code",
      "source": [
        "# Create a list to store the scraped data\n",
        "data = []\n",
        "\n",
        "# Extract the desired information from each result\n",
        "for result in results:\n",
        "    title = result.find('h5').find('a').text\n",
        "    description = result.find('div', class_='search-description').text\n",
        "    link = result.find('a')['href']\n",
        "\n",
        "    # Create a dictionary for each result\n",
        "    result_data = {\n",
        "        'title': title,\n",
        "        'description': description,\n",
        "        'link': link\n",
        "    }\n",
        "\n",
        "    # Append the result dictionary to the data list\n",
        "    data.append(result_data)\n",
        "\n",
        "print(data);"
      ],
      "metadata": {
        "colab": {
          "base_uri": "https://localhost:8080/"
        },
        "id": "ulGZm4jaywPD",
        "outputId": "a2dfe126-081c-4358-9064-b589389821fe"
      },
      "execution_count": 29,
      "outputs": [
        {
          "output_type": "stream",
          "name": "stdout",
          "text": [
            "[{'title': 'Senior Data Scientist（EKYC/OCR/Facial Recognition)', 'description': 'Binance is the global blockchain company behind the world’s largest digital asset exchange by trading volume and users, serving a... ', 'link': '/job-vacancies-nigeria/senior-data-scientistekycocrfacial-recognition-128386'}, {'title': 'Analyst - Data and Analytics.Information Technology', 'description': 'ob DescriptionReports To: Manager - Operations Data and AnalyticDivision: Information TechnologyDescriptionConfigure, build, and test... ', 'link': '/job-vacancies-nigeria/analyst-data-analyticsinformation-technology-127561'}, {'title': 'Engineer - CloudOps.Information Technology', 'description': 'Job DescriptionReports To: Manager - Cloud Engineering\\xa0Division: Information TechnologyMissionEnsure the smooth operation and upkeep... ', 'link': '/job-vacancies-nigeria/engineer-cloudopsinformation-technology-127559'}, {'title': 'Database Web Developer', 'description': 'OverviewDatabase Web Developer – experts will provide expertise in data management for Surveillance, design and develop modules,... ', 'link': '/job-vacancies-nigeria/database-web-developer-128505'}, {'title': 'Strategic Information Optimizer', 'description': 'OverviewRISE is a 5-year global project funded by the U.S. President’s Emergency Plan for AIDS Relief (PEPFAR) and the U.S. Agency... ', 'link': '/job-vacancies-nigeria/strategic-information-optimizer-128507'}, {'title': 'Senior Web3 Blockchain Engineer', 'description': '\\xa0Our mission is to unlock the collaborative power of communities by making Web3 universally easy to use, access, and build on\\xa0... ', 'link': '/job-vacancies-nigeria/senior-web3-blockchain-engineer-128239'}, {'title': 'Monitoring and Evaluation Specialist, Transitional Police Unit, Abuja,', 'description': 'Discover your full potential. At Tetra Tech, we are collaborating with industry-leading experts for a sustainable future for our world. We... ', 'link': '/job-vacancies-nigeria/monitoring-evaluation-specialist-transitional-police-unit-abuja-127438'}, {'title': 'Assistant Technical Officer, Child Protection', 'description': '\\xa0Position Title:\\xa0Assistant Technical Officer, Child Protection\\xa0Location:\\xa0Ngala, Borno stateSupervisor:\\xa0Field... ', 'link': '/job-vacancies-nigeria/assistant-technical-officer-child-protection-128021'}]\n"
          ]
        }
      ]
    },
    {
      "cell_type": "code",
      "source": [
        "# Store the scraped data in a JSON file\n",
        "with open('data.json', 'w') as json_file:\n",
        "    json.dump(data, json_file, indent=4)\n",
        "\n",
        "print(\"Scraping and JSON conversion completed!\")"
      ],
      "metadata": {
        "colab": {
          "base_uri": "https://localhost:8080/"
        },
        "id": "IKQ4WCskyzMB",
        "outputId": "b561c345-f55f-4ddd-d52e-6d5880dc5d91"
      },
      "execution_count": 30,
      "outputs": [
        {
          "output_type": "stream",
          "name": "stdout",
          "text": [
            "Scraping and JSON conversion completed!\n"
          ]
        }
      ]
    }
  ]
}