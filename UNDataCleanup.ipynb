{
  "nbformat": 4,
  "nbformat_minor": 0,
  "metadata": {
    "colab": {
      "provenance": []
    },
    "kernelspec": {
      "name": "python3",
      "display_name": "Python 3"
    },
    "language_info": {
      "name": "python"
    }
  },
  "cells": [
    {
      "cell_type": "markdown",
      "source": [
        "Main work"
      ],
      "metadata": {
        "id": "hvKoznOzptzB"
      }
    },
    {
      "cell_type": "code",
      "source": [
        "!pip install dataset"
      ],
      "metadata": {
        "id": "uot8M10EqzQ7"
      },
      "execution_count": null,
      "outputs": []
    },
    {
      "cell_type": "markdown",
      "source": [
        "Usage: python our_cleanup_script.py\n",
        "\n",
        "This script is used to intake the male survey data from UNICEF\n",
        "and save it to a simple database file after it has been checked\n",
        "for duplicates and missing data and after the headers have been properly\n",
        "matched with the data. It expects there to be a 'mn.csv' file with the\n",
        "data and the 'mn_updated_headers.csv' file in a subfolder called 'unicef' within\n",
        "a data folder in this directory. It also expects there to be a SQLite\n",
        "file called 'data_wrangling.db' in the root of this directory. Finally,\n",
        "it expects to utilize the dataset library\n",
        "(http://dataset.readthedocs.org/en/latest/).\n",
        "\n",
        "If the script runs without finding any errors, it will save the\n",
        "cleaned data to the 'unicef_survey' table in the SQLite.\n",
        "The saved data will have the following structure:\n",
        "* question: string\n",
        "* question_code: string\n",
        "* answer: string\n",
        "* response_number: integer\n",
        "* survey: string\n",
        "\n",
        "The response number can later be used to join entire responses together\n",
        "(i.e., all of response_number 3 come from the same interview, etc.).\n",
        "\n",
        "If you have any questions, please feel free to contact me via ..."
      ],
      "metadata": {
        "id": "u66AK7Iy1U8G"
      }
    },
    {
      "cell_type": "code",
      "source": [
        "from csv import reader\n",
        "import dataset"
      ],
      "metadata": {
        "id": "rc-FlTnx1om8"
      },
      "execution_count": null,
      "outputs": []
    },
    {
      "cell_type": "code",
      "source": [
        "def get_rows(file_name):\n",
        "    \"\"\"Return a list of rows from a given csv filename.\"\"\"\n",
        "    rdr = reader(open(file_name, 'rt'))\n",
        "    return [row for row in rdr]\n",
        "\n",
        "\n",
        "def eliminate_mismatches(header_rows, data_rows):\n",
        "    \"\"\"\n",
        "    Return index numbers to skip in a list and final header rows in a list\n",
        "    when given header rows and data rows from a UNICEF dataset. This\n",
        "    function assumes the data_rows object has headers in the first element.\n",
        "    It assumes those headers are the shortened UNICEF form. It also assumes\n",
        "    the first element of each header row in the header data is the\n",
        "    shortened UNICEF form. It will return the list of indexes to skip in the\n",
        "    data rows (ones that don't match properly with headers) as the first element\n",
        "    and will return the final cleaned header rows as the second element.\n",
        "    \"\"\"\n",
        "    all_short_headers = [h[0] for h in header_rows]\n",
        "    skip_index = []\n",
        "    final_header_rows = []\n",
        "\n",
        "    for header in data_rows[0]:\n",
        "        if header not in all_short_headers:\n",
        "            index = data_rows[0].index(header)\n",
        "            if index not in skip_index:\n",
        "                skip_index.append(index)\n",
        "        else:\n",
        "            for head in header_rows:\n",
        "                if head[0] == header:\n",
        "                    final_header_rows.append(head)\n",
        "                    break\n",
        "    return skip_index, final_header_rows\n",
        "\n",
        "\n",
        "def zip_data(headers, data):\n",
        "    \"\"\"\n",
        "    Return a list of zipped data when given a header list and data list. Assumes\n",
        "    the length of data elements per row and the length of headers are the same.\n",
        "\n",
        "    example output: [(['question code', 'question summary', 'question text'],\n",
        "\t\t       'resp'), ....]\n",
        "    \"\"\"\n",
        "    zipped_data = []\n",
        "    for drow in data:\n",
        "        zipped_data.append(list(zip(headers, drow)))\n",
        "    return zipped_data\n",
        "\n",
        "\n",
        "def create_zipped_data(final_header_rows, data_rows, skip_index):\n",
        "    \"\"\"\n",
        "    Returns a list of zipped data rows (matching header and data) when given a\n",
        "    list of final header rows, a list of data rows, and a list of indexes on\n",
        "    those data rows to skip as they don't match properly. The function assumes\n",
        "    the first row in the data rows contains the original data header values,\n",
        "    and will remove those values from the final list.\n",
        "    \"\"\"\n",
        "    new_data = []\n",
        "    for row in data_rows[1:]:\n",
        "        new_row = []\n",
        "        for index, data in enumerate(row):\n",
        "            if index not in skip_index:\n",
        "                new_row.append(data)\n",
        "        new_data.append(new_row)\n",
        "    zipped_data = zip_data(final_header_rows, new_data)\n",
        "    return zipped_data\n",
        "\n",
        "\n",
        "def find_missing_data(zipped_data):\n",
        "    \"\"\"\n",
        "    Returns a count of how many answers are missing in an entire set of zipped\n",
        "    data. This function assumes all responses are stored as the second element.\n",
        "    It also assumes every response is stored in a list of these matched question,\n",
        "    answer groupings. It returns an integer.\n",
        "    \"\"\"\n",
        "    missing_count = 0\n",
        "    for response in zipped_data:\n",
        "        for question, answer in response:\n",
        "            if not answer:\n",
        "                missing_count += 1\n",
        "    return missing_count\n",
        "\n",
        "\n",
        "def find_duplicate_data(zipped_data):\n",
        "    \"\"\"\n",
        "    Returns a list of unique elements and a number of duplicates found when given\n",
        "    a UNICEF zipped_data list. This function assumes that the first three rows of\n",
        "    data are structured to have the house, cluster, and line number of the\n",
        "    interview and uses these values to create a unique key that should not be\n",
        "    repeated.\n",
        "    \"\"\"\n",
        "\n",
        "    set_of_keys = set([\n",
        "        '%s-%s-%s' % (row[0][1], row[1][1], row[2][1])\n",
        "        for row in zipped_data])\n",
        "\n",
        "    #TODO: this will throw an error if we have duplicates- we should find a way\n",
        "    #around this\n",
        "    uniques = [row for row in zipped_data if not\n",
        "               set_of_keys.remove('%s-%s-%s' %\n",
        "                                  (row[0][1], row[1][1], row[2][1]))]\n",
        "\n",
        "    return uniques, len(set_of_keys)\n",
        "\n",
        "\n",
        "def save_to_sqlitedb(db_file, zipped_data, survey_type):\n",
        "    \"\"\"\n",
        "    When given a path to a SQLite file, the cleaned zipped_data, and the\n",
        "    UNICEF survey type that was used, saves the data to SQLite in a\n",
        "    table called 'unicef_survey' with the following attributes:\n",
        "        question, question_code, answer, response_number, survey\n",
        "    \"\"\"\n",
        "    db = dataset.connect(db_file)\n",
        "\n",
        "    table = db['unicef_survey']\n",
        "    all_rows = []\n",
        "\n",
        "    for row_num, data in enumerate(zipped_data):\n",
        "        for question, answer in data:\n",
        "            data_dict = {\n",
        "                'question': question[1],\n",
        "                'question_code': question[0],\n",
        "                'answer': answer,\n",
        "                'response_number': row_num,\n",
        "                'survey': survey_type,\n",
        "            }\n",
        "            all_rows.append(data_dict)\n",
        "\n",
        "    table.insert_many(all_rows)\n",
        "\n",
        "\n"
      ],
      "metadata": {
        "id": "4-WZwM72pllC"
      },
      "execution_count": 37,
      "outputs": []
    },
    {
      "cell_type": "code",
      "source": [
        "def main():\n",
        "    \"\"\"\n",
        "    Import all data into rows, clean it, and then if\n",
        "    no errors are found, save it to SQlite.\n",
        "    If there are errors found, print out details so\n",
        "    developers can begin work on fixing the script\n",
        "    or seeing if there is an error in the data.\n",
        "    \"\"\"\n",
        "\n",
        "    #TODO: we probably should abstract these files so that we can pass\n",
        "    # them in as variables and use the main function with other surveys\n",
        "    data_rows = get_rows('sample_data/mn.csv')\n",
        "    header_rows = get_rows('sample_data/mn_headers_updated.csv')\n",
        "    skip_index, final_header_rows = eliminate_mismatches(header_rows,\n",
        "                                                         data_rows)\n",
        "    zipped_data = create_zipped_data(final_header_rows, data_rows, skip_index)\n",
        "    num_missing = find_missing_data(zipped_data)\n",
        "    uniques, num_dupes = find_duplicate_data(zipped_data)\n",
        "    if num_missing == 0 and num_dupes == 0:\n",
        "        #TODO: we probably also want to abstract this\n",
        "        # file away, or make sure it exists before continuing\n",
        "        save_to_sqlitedb('sqlite:///data_wrangling.db', zipped_data, 'mn')\n",
        "    else:\n",
        "        #TODO: eventually we probably want to log this, and\n",
        "        # maybe send an email if an error is thrown rather than print it\n",
        "        error_msg = ''\n",
        "        if num_missing:\n",
        "            error_msg += 'We are missing {} values. '.format(num_missing)\n",
        "        if num_dupes:\n",
        "            error_msg += 'We have {} duplicates. '.format(num_dupes)\n",
        "        error_msg += 'Please have a look and fix!'\n",
        "        print(error_msg)\n",
        "\n",
        "\n",
        "if __name__ == '__main__':\n",
        "    main()"
      ],
      "metadata": {
        "id": "9A_UiMGB11QO"
      },
      "execution_count": null,
      "outputs": []
    },
    {
      "cell_type": "code",
      "source": [
        "db = dataset.connect('sqlite:///data_wrangling.db')"
      ],
      "metadata": {
        "id": "MyF3vKx0vKPh"
      },
      "execution_count": null,
      "outputs": []
    },
    {
      "cell_type": "code",
      "source": [
        "wm_count = db.query('select count(*) from unicef_survey')\n",
        "count_result = wm_count.next()\n",
        "print(count_result)"
      ],
      "metadata": {
        "colab": {
          "base_uri": "https://localhost:8080/"
        },
        "id": "0QrEqg7WwjMD",
        "outputId": "08438262-cb90-46eb-b734-042fdb2e8833"
      },
      "execution_count": 53,
      "outputs": [
        {
          "output_type": "stream",
          "name": "stdout",
          "text": [
            "OrderedDict([('count(*)', 1369216)])\n"
          ]
        }
      ]
    },
    {
      "cell_type": "markdown",
      "source": [
        "Rough work"
      ],
      "metadata": {
        "id": "E6NTW2nOpmm8"
      }
    },
    {
      "cell_type": "code",
      "source": [],
      "metadata": {
        "id": "3nDdaMdXpkfF"
      },
      "execution_count": null,
      "outputs": []
    },
    {
      "cell_type": "code",
      "execution_count": 8,
      "metadata": {
        "colab": {
          "base_uri": "https://localhost:8080/"
        },
        "id": "uHh7kZEwZZCY",
        "outputId": "e012a57e-24ae-4def-b1e8-253f24cb8970"
      },
      "outputs": [
        {
          "output_type": "stream",
          "name": "stdout",
          "text": [
            "[{'': '1', 'HH1': '1', 'HH2': '17', 'LN': '1', 'MWM1': '1', 'MWM2': '17', 'MWM4': '1', 'MWM5': '14', 'MWM6D': '7', 'MWM6M': '4', 'MWM6Y': '2014', 'MWM7': 'Completed', 'MWM8': '2', 'MWM9': '20', 'MWM10H': '17', 'MWM10M': '59', 'MWM11H': '18', 'MWM11M': '7', 'MWB1M': '5', 'MWB1Y': '1984', 'MWB2': '29', 'MWB3': 'Yes', 'MWB4': 'Higher', 'MWB5': '31', 'MWB7': 'NA', 'MMT2': 'Almost every day', 'MMT3': 'At least once a week', 'MMT4': 'Less than once a week', 'MMT6': 'Yes', 'MMT7': 'Yes', 'MMT8': 'Almost every day', 'MMT9': 'Yes', 'MMT10': 'Yes', 'MMT11': 'Almost every day', 'MMT12': 'Yes', 'MMT13': 'Yes', 'MMT14': 'Almost every day', 'MCM1': 'No', 'MCM3': 'NA', 'MCM4': 'NA', 'MCM5A': 'NA', 'MCM5B': 'NA', 'MCM6': 'NA', 'MCM7A': 'NA', 'MCM7B': 'NA', 'MCM8': 'No', 'MCM9A': 'NA', 'MCM9B': 'NA', 'MCM10': '0', 'MCM11A': 'NA', 'MCM11B': 'NA', 'MCM12M': 'NA', 'MCM12Y': 'NA', 'MDV1A': 'No', 'MDV1B': 'No', 'MDV1C': 'No', 'MDV1D': 'No', 'MDV1E': 'No', 'MDV1F': 'No', 'MMA1': 'Yes, currently married', 'MMA3': 'No (Only one)', 'MMA4': 'NA', 'MMA5': 'NA', 'MMA6': 'NA', 'MMA7': 'Only once', 'MMA8M': '9', 'MMA8Y': '2013', 'MMA9': 'NA', 'MSB1': '20', 'MSB2': 'Yes', 'MSB3U': 'Days ago', 'MSB3N': '0', 'MSB4': 'No', 'MSB5': 'Wife', 'MSB8': 'No', 'MSB9': 'NA', 'MSB10': 'NA', 'MSB13': 'NA', 'MSB14': 'NA', 'MSB15': '5', 'MHA1': 'Yes', 'MHA2': 'Yes', 'MHA3': 'No', 'MHA4': 'Yes', 'MHA5': 'No', 'MHA6': 'No', 'MHA7': 'Yes', 'MHA8A': 'DK', 'MHA8B': 'Yes', 'MHA8C': 'DK', 'MHA9': 'Yes', 'MHA10': 'Yes', 'MHA11': 'No', 'MHA12': 'Yes', 'MHA24': 'Yes', 'MHA25': 'Less than 12 months ago', 'MHA26': 'Yes', 'MHA27': 'NA', 'MMC1': 'No', 'MMC2': 'NA', 'MMC3': 'NA', 'MMC4': 'NA', 'MTA1': 'No', 'MTA2': 'NA', 'MTA3': 'NA', 'MTA4': 'NA', 'MTA5': 'NA', 'MTA6': 'No', 'MTA7': 'NA', 'MTA8A': 'NA', 'MTA8B': 'NA', 'MTA8C': 'NA', 'MTA8D': 'NA', 'MTA8E': 'NA', 'MTA8X': 'NA', 'MTA9': 'NA', 'MTA10': 'No', 'MTA11': 'NA', 'MTA12A': 'NA', 'MTA12B': 'NA', 'MTA12C': 'NA', 'MTA12X': 'NA', 'MTA13': 'NA', 'MTA14': 'Yes', 'MTA15': '16', 'MTA16': '0', 'MTA17': 'NA', 'TNLN': 'NA', 'TN4': 'NA', 'TN5': 'NA', 'TN6': 'NA', 'TN8': 'NA', 'TN9': 'NA', 'TN10': 'NA', 'TN11': 'NA', 'TN12_1': 'NA', 'TN12_2': 'NA', 'TN12_3': 'NA', 'TN12_4': 'NA', 'HH6': 'Urban', 'HH7': 'Bulawayo', 'MWDOI': '1372', 'MWDOB': '1013', 'MWAGE': '25-29', 'MWDOM': '1365', 'MWAGEM': '29', 'MWDOBLC': 'NA', 'MMSTATUS': 'Currently married/in union', 'MCEB': '0', 'MCSURV': '0', 'MCDEAD': '0', 'mwelevel': 'Higher', 'mnweight': '0.403797141860459', 'wscore': '1.60367010204171', 'windex5': '5', 'wscoreu': '1.27255184167736', 'windex5u': '5', 'wscorer': 'NA', 'windex5r': 'NA'}, {'': '2', 'HH1': '1', 'HH2': '20', 'LN': '1', 'MWM1': '1', 'MWM2': '20', 'MWM4': '1', 'MWM5': '14', 'MWM6D': '7', 'MWM6M': '4', 'MWM6Y': '2014', 'MWM7': 'Completed', 'MWM8': '2', 'MWM9': '20', 'MWM10H': '17', 'MWM10M': '32', 'MWM11H': '17', 'MWM11M': '42', 'MWB1M': '5', 'MWB1Y': '1976', 'MWB2': '37', 'MWB3': 'Yes', 'MWB4': 'Higher', 'MWB5': '31', 'MWB7': 'NA', 'MMT2': 'At least once a week', 'MMT3': 'Not at all', 'MMT4': 'Almost every day', 'MMT6': 'Yes', 'MMT7': 'Yes', 'MMT8': 'Almost every day', 'MMT9': 'Yes', 'MMT10': 'Yes', 'MMT11': 'Almost every day', 'MMT12': 'Yes', 'MMT13': 'Yes', 'MMT14': 'Almost every day', 'MCM1': 'No', 'MCM3': 'NA', 'MCM4': 'NA', 'MCM5A': 'NA', 'MCM5B': 'NA', 'MCM6': 'NA', 'MCM7A': 'NA', 'MCM7B': 'NA', 'MCM8': 'No', 'MCM9A': 'NA', 'MCM9B': 'NA', 'MCM10': '0', 'MCM11A': 'NA', 'MCM11B': 'NA', 'MCM12M': 'NA', 'MCM12Y': 'NA', 'MDV1A': 'No', 'MDV1B': 'No', 'MDV1C': 'No', 'MDV1D': 'No', 'MDV1E': 'No', 'MDV1F': 'No', 'MMA1': 'Yes, currently married', 'MMA3': 'No (Only one)', 'MMA4': 'NA', 'MMA5': 'NA', 'MMA6': 'NA', 'MMA7': 'Only once', 'MMA8M': '2', 'MMA8Y': '2014', 'MMA9': 'NA', 'MSB1': '37', 'MSB2': 'No', 'MSB3U': 'Days ago', 'MSB3N': '0', 'MSB4': 'No', 'MSB5': 'Wife', 'MSB8': 'No', 'MSB9': 'NA', 'MSB10': 'NA', 'MSB13': 'NA', 'MSB14': 'NA', 'MSB15': '1', 'MHA1': 'Yes', 'MHA2': 'Yes', 'MHA3': 'No', 'MHA4': 'Yes', 'MHA5': 'No', 'MHA6': 'No', 'MHA7': 'Yes', 'MHA8A': 'No', 'MHA8B': 'Yes', 'MHA8C': 'Yes', 'MHA9': 'Yes', 'MHA10': 'Yes', 'MHA11': 'Yes', 'MHA12': 'No', 'MHA24': 'Yes', 'MHA25': 'Less than 12 months ago', 'MHA26': 'Yes', 'MHA27': 'NA', 'MMC1': 'No', 'MMC2': 'NA', 'MMC3': 'NA', 'MMC4': 'NA', 'MTA1': 'No', 'MTA2': 'NA', 'MTA3': 'NA', 'MTA4': 'NA', 'MTA5': 'NA', 'MTA6': 'No', 'MTA7': 'NA', 'MTA8A': 'NA', 'MTA8B': 'NA', 'MTA8C': 'NA', 'MTA8D': 'NA', 'MTA8E': 'NA', 'MTA8X': 'NA', 'MTA9': 'NA', 'MTA10': 'No', 'MTA11': 'NA', 'MTA12A': 'NA', 'MTA12B': 'NA', 'MTA12C': 'NA', 'MTA12X': 'NA', 'MTA13': 'NA', 'MTA14': 'No', 'MTA15': 'NA', 'MTA16': 'NA', 'MTA17': 'NA', 'TNLN': 'NA', 'TN4': 'NA', 'TN5': 'NA', 'TN6': 'NA', 'TN8': 'NA', 'TN9': 'NA', 'TN10': 'NA', 'TN11': 'NA', 'TN12_1': 'NA', 'TN12_2': 'NA', 'TN12_3': 'NA', 'TN12_4': 'NA', 'HH6': 'Urban', 'HH7': 'Bulawayo', 'MWDOI': '1372', 'MWDOB': '917', 'MWAGE': '35-39', 'MWDOM': '1370', 'MWAGEM': '37', 'MWDOBLC': 'NA', 'MMSTATUS': 'Currently married/in union', 'MCEB': '0', 'MCSURV': '0', 'MCDEAD': '0', 'mwelevel': 'Higher', 'mnweight': '0.403797141860459', 'wscore': '1.54327702631422', 'windex5': '5', 'wscoreu': '1.08902631982422', 'windex5u': '5', 'wscorer': 'NA', 'windex5r': 'NA'}, {'': '3', 'HH1': '2', 'HH2': '1', 'LN': '1', 'MWM1': '2', 'MWM2': '1', 'MWM4': '1', 'MWM5': '9', 'MWM6D': '8', 'MWM6M': '4', 'MWM6Y': '2014', 'MWM7': 'Completed', 'MWM8': '1', 'MWM9': '40', 'MWM10H': '10', 'MWM10M': '37', 'MWM11H': '10', 'MWM11M': '52', 'MWB1M': '2', 'MWB1Y': '1973', 'MWB2': '41', 'MWB3': 'Yes', 'MWB4': 'Primary', 'MWB5': '17', 'MWB7': 'Able to read whole sentence', 'MMT2': 'Not at all', 'MMT3': 'Almost every day', 'MMT4': 'Less than once a week', 'MMT6': 'No', 'MMT7': 'NA', 'MMT8': 'NA', 'MMT9': 'No', 'MMT10': 'NA', 'MMT11': 'NA', 'MMT12': 'Yes', 'MMT13': 'Yes', 'MMT14': 'Almost every day', 'MCM1': 'Yes', 'MCM3': '21', 'MCM4': 'Yes', 'MCM5A': '1', 'MCM5B': '1', 'MCM6': 'Yes', 'MCM7A': '1', 'MCM7B': '0', 'MCM8': 'No', 'MCM9A': 'NA', 'MCM9B': 'NA', 'MCM10': '3', 'MCM11A': 'No', 'MCM11B': '2', 'MCM12M': '5', 'MCM12Y': '2012', 'MDV1A': 'No', 'MDV1B': 'No', 'MDV1C': 'No', 'MDV1D': 'No', 'MDV1E': 'No', 'MDV1F': 'No', 'MMA1': 'Yes, currently married', 'MMA3': 'No (Only one)', 'MMA4': 'NA', 'MMA5': 'NA', 'MMA6': 'NA', 'MMA7': 'More than once', 'MMA8M': '8', 'MMA8Y': '1991', 'MMA9': 'NA', 'MSB1': '20', 'MSB2': 'No', 'MSB3U': 'Days ago', 'MSB3N': '0', 'MSB4': 'Yes', 'MSB5': 'Wife', 'MSB8': 'No', 'MSB9': 'NA', 'MSB10': 'NA', 'MSB13': 'NA', 'MSB14': 'NA', 'MSB15': '5', 'MHA1': 'Yes', 'MHA2': 'Yes', 'MHA3': 'No', 'MHA4': 'Yes', 'MHA5': 'No', 'MHA6': 'No', 'MHA7': 'Yes', 'MHA8A': 'No', 'MHA8B': 'Yes', 'MHA8C': 'No', 'MHA9': 'Yes', 'MHA10': 'Yes', 'MHA11': 'No', 'MHA12': 'Yes', 'MHA24': 'Yes', 'MHA25': '2 or more years ago', 'MHA26': 'Yes', 'MHA27': 'NA', 'MMC1': 'No', 'MMC2': 'NA', 'MMC3': 'NA', 'MMC4': 'NA', 'MTA1': 'Yes', 'MTA2': '18', 'MTA3': 'Yes', 'MTA4': '10', 'MTA5': '30', 'MTA6': 'Yes', 'MTA7': 'Yes', 'MTA8A': 'NA', 'MTA8B': 'NA', 'MTA8C': 'NA', 'MTA8D': 'NA', 'MTA8E': 'Rolled tobacco', 'MTA8X': 'NA', 'MTA9': '7', 'MTA10': 'No', 'MTA11': 'NA', 'MTA12A': 'NA', 'MTA12B': 'NA', 'MTA12C': 'NA', 'MTA12X': 'NA', 'MTA13': 'NA', 'MTA14': 'Yes', 'MTA15': '19', 'MTA16': '8', 'MTA17': '2', 'TNLN': 'NA', 'TN4': 'NA', 'TN5': 'NA', 'TN6': 'NA', 'TN8': 'NA', 'TN9': 'NA', 'TN10': 'NA', 'TN11': 'NA', 'TN12_1': 'NA', 'TN12_2': 'NA', 'TN12_3': 'NA', 'TN12_4': 'NA', 'HH6': 'Urban', 'HH7': 'Bulawayo', 'MWDOI': '1372', 'MWDOB': '878', 'MWAGE': '40-44', 'MWDOM': '1100', 'MWAGEM': '18', 'MWDOBLC': 'NA', 'MMSTATUS': 'Currently married/in union', 'MCEB': '3', 'MCSURV': '3', 'MCDEAD': '0', 'mwelevel': 'Primary', 'mnweight': '1.03192602919895', 'wscore': '0.878635263695964', 'windex5': '4', 'wscoreu': '-0.930720561098312', 'windex5u': '1', 'wscorer': 'NA', 'windex5r': 'NA'}, {'': '4', 'HH1': '2', 'HH2': '1', 'LN': '5', 'MWM1': '2', 'MWM2': '1', 'MWM4': '5', 'MWM5': '9', 'MWM6D': '12', 'MWM6M': '4', 'MWM6Y': '2014', 'MWM7': 'Not at home', 'MWM8': '1', 'MWM9': '40', 'MWM10H': 'NA', 'MWM10M': 'NA', 'MWM11H': 'NA', 'MWM11M': 'NA', 'MWB1M': 'NA', 'MWB1Y': 'NA', 'MWB2': 'NA', 'MWB3': 'NA', 'MWB4': 'NA', 'MWB5': 'NA', 'MWB7': 'NA', 'MMT2': 'NA', 'MMT3': 'NA', 'MMT4': 'NA', 'MMT6': 'NA', 'MMT7': 'NA', 'MMT8': 'NA', 'MMT9': 'NA', 'MMT10': 'NA', 'MMT11': 'NA', 'MMT12': 'NA', 'MMT13': 'NA', 'MMT14': 'NA', 'MCM1': 'NA', 'MCM3': 'NA', 'MCM4': 'NA', 'MCM5A': 'NA', 'MCM5B': 'NA', 'MCM6': 'NA', 'MCM7A': 'NA', 'MCM7B': 'NA', 'MCM8': 'NA', 'MCM9A': 'NA', 'MCM9B': 'NA', 'MCM10': 'NA', 'MCM11A': 'NA', 'MCM11B': 'NA', 'MCM12M': 'NA', 'MCM12Y': 'NA', 'MDV1A': 'NA', 'MDV1B': 'NA', 'MDV1C': 'NA', 'MDV1D': 'NA', 'MDV1E': 'NA', 'MDV1F': 'NA', 'MMA1': 'NA', 'MMA3': 'NA', 'MMA4': 'NA', 'MMA5': 'NA', 'MMA6': 'NA', 'MMA7': 'NA', 'MMA8M': 'NA', 'MMA8Y': 'NA', 'MMA9': 'NA', 'MSB1': 'NA', 'MSB2': 'NA', 'MSB3U': 'NA', 'MSB3N': 'NA', 'MSB4': 'NA', 'MSB5': 'NA', 'MSB8': 'NA', 'MSB9': 'NA', 'MSB10': 'NA', 'MSB13': 'NA', 'MSB14': 'NA', 'MSB15': 'NA', 'MHA1': 'NA', 'MHA2': 'NA', 'MHA3': 'NA', 'MHA4': 'NA', 'MHA5': 'NA', 'MHA6': 'NA', 'MHA7': 'NA', 'MHA8A': 'NA', 'MHA8B': 'NA', 'MHA8C': 'NA', 'MHA9': 'NA', 'MHA10': 'NA', 'MHA11': 'NA', 'MHA12': 'NA', 'MHA24': 'NA', 'MHA25': 'NA', 'MHA26': 'NA', 'MHA27': 'NA', 'MMC1': 'NA', 'MMC2': 'NA', 'MMC3': 'NA', 'MMC4': 'NA', 'MTA1': 'NA', 'MTA2': 'NA', 'MTA3': 'NA', 'MTA4': 'NA', 'MTA5': 'NA', 'MTA6': 'NA', 'MTA7': 'NA', 'MTA8A': 'NA', 'MTA8B': 'NA', 'MTA8C': 'NA', 'MTA8D': 'NA', 'MTA8E': 'NA', 'MTA8X': 'NA', 'MTA9': 'NA', 'MTA10': 'NA', 'MTA11': 'NA', 'MTA12A': 'NA', 'MTA12B': 'NA', 'MTA12C': 'NA', 'MTA12X': 'NA', 'MTA13': 'NA', 'MTA14': 'NA', 'MTA15': 'NA', 'MTA16': 'NA', 'MTA17': 'NA', 'TNLN': 'NA', 'TN4': 'NA', 'TN5': 'NA', 'TN6': 'NA', 'TN8': 'NA', 'TN9': 'NA', 'TN10': 'NA', 'TN11': 'NA', 'TN12_1': 'NA', 'TN12_2': 'NA', 'TN12_3': 'NA', 'TN12_4': 'NA', 'HH6': 'Urban', 'HH7': 'Bulawayo', 'MWDOI': '1372', 'MWDOB': 'NA', 'MWAGE': 'NA', 'MWDOM': 'NA', 'MWAGEM': 'NA', 'MWDOBLC': 'NA', 'MMSTATUS': 'NA', 'MCEB': 'NA', 'MCSURV': 'NA', 'MCDEAD': 'NA', 'mwelevel': 'NA', 'mnweight': '0', 'wscore': '0', 'windex5': '0', 'wscoreu': '0', 'windex5u': '0', 'wscorer': '0', 'windex5r': '0'}, {'': '5', 'HH1': '2', 'HH2': '1', 'LN': '8', 'MWM1': '2', 'MWM2': '1', 'MWM4': '8', 'MWM5': '9', 'MWM6D': '8', 'MWM6M': '4', 'MWM6Y': '2014', 'MWM7': 'Completed', 'MWM8': '1', 'MWM9': '40', 'MWM10H': '10', 'MWM10M': '53', 'MWM11H': '11', 'MWM11M': '10', 'MWB1M': '2', 'MWB1Y': '1993', 'MWB2': '21', 'MWB3': 'Yes', 'MWB4': 'Secondary', 'MWB5': '24', 'MWB7': 'NA', 'MMT2': 'Less than once a week', 'MMT3': 'At least once a week', 'MMT4': 'Less than once a week', 'MMT6': 'No', 'MMT7': 'NA', 'MMT8': 'NA', 'MMT9': 'No', 'MMT10': 'NA', 'MMT11': 'NA', 'MMT12': 'Yes', 'MMT13': 'Yes', 'MMT14': 'Almost every day', 'MCM1': 'No', 'MCM3': 'NA', 'MCM4': 'NA', 'MCM5A': 'NA', 'MCM5B': 'NA', 'MCM6': 'NA', 'MCM7A': 'NA', 'MCM7B': 'NA', 'MCM8': 'No', 'MCM9A': 'NA', 'MCM9B': 'NA', 'MCM10': '0', 'MCM11A': 'NA', 'MCM11B': 'NA', 'MCM12M': 'NA', 'MCM12Y': 'NA', 'MDV1A': 'No', 'MDV1B': 'No', 'MDV1C': 'No', 'MDV1D': 'No', 'MDV1E': 'No', 'MDV1F': 'No', 'MMA1': 'No, not in union', 'MMA3': 'NA', 'MMA4': 'NA', 'MMA5': 'No', 'MMA6': 'NA', 'MMA7': 'NA', 'MMA8M': 'NA', 'MMA8Y': 'NA', 'MMA9': 'NA', 'MSB1': '19', 'MSB2': 'Yes', 'MSB3U': 'Months ago', 'MSB3N': '7', 'MSB4': 'Yes', 'MSB5': 'Girlfriend', 'MSB8': 'No', 'MSB9': 'NA', 'MSB10': 'NA', 'MSB13': 'NA', 'MSB14': 'NA', 'MSB15': '3', 'MHA1': 'Yes', 'MHA2': 'Yes', 'MHA3': 'No', 'MHA4': 'Yes', 'MHA5': 'No', 'MHA6': 'No', 'MHA7': 'Yes', 'MHA8A': 'Yes', 'MHA8B': 'Yes', 'MHA8C': 'Yes', 'MHA9': 'Yes', 'MHA10': 'Yes', 'MHA11': 'No', 'MHA12': 'Yes', 'MHA24': 'Yes', 'MHA25': '12-23 months ago', 'MHA26': 'Yes', 'MHA27': 'NA', 'MMC1': 'No', 'MMC2': 'NA', 'MMC3': 'NA', 'MMC4': 'NA', 'MTA1': 'No', 'MTA2': 'NA', 'MTA3': 'NA', 'MTA4': 'NA', 'MTA5': 'NA', 'MTA6': 'No', 'MTA7': 'NA', 'MTA8A': 'NA', 'MTA8B': 'NA', 'MTA8C': 'NA', 'MTA8D': 'NA', 'MTA8E': 'NA', 'MTA8X': 'NA', 'MTA9': 'NA', 'MTA10': 'No', 'MTA11': 'NA', 'MTA12A': 'NA', 'MTA12B': 'NA', 'MTA12C': 'NA', 'MTA12X': 'NA', 'MTA13': 'NA', 'MTA14': 'Yes', 'MTA15': '20', 'MTA16': '10', 'MTA17': '2', 'TNLN': 'NA', 'TN4': 'NA', 'TN5': 'NA', 'TN6': 'NA', 'TN8': 'NA', 'TN9': 'NA', 'TN10': 'NA', 'TN11': 'NA', 'TN12_1': 'NA', 'TN12_2': 'NA', 'TN12_3': 'NA', 'TN12_4': 'NA', 'HH6': 'Urban', 'HH7': 'Bulawayo', 'MWDOI': '1372', 'MWDOB': '1118', 'MWAGE': '20-24', 'MWDOM': 'NA', 'MWAGEM': 'NA', 'MWDOBLC': 'NA', 'MMSTATUS': 'Never married/in union', 'MCEB': '0', 'MCSURV': '0', 'MCDEAD': '0', 'mwelevel': 'Secondary', 'mnweight': '1.03192602919895', 'wscore': '0.878635263695964', 'windex5': '4', 'wscoreu': '-0.930720561098312', 'windex5u': '1', 'wscorer': 'NA', 'windex5r': 'NA'}]\n",
            "[{'Name': 'HH1', 'Label': 'Cluster number', 'Question': ''}, {'Name': 'HH2', 'Label': 'Household number', 'Question': ''}, {'Name': 'LN', 'Label': 'Line number', 'Question': ''}, {'Name': 'MWM1', 'Label': 'Cluster number', 'Question': ''}, {'Name': 'MWM2', 'Label': 'Household number', 'Question': ''}]\n"
          ]
        }
      ],
      "source": [
        "from csv import DictReader\n",
        "\n",
        "data_rdr = DictReader(open('sample_data/mn.csv', 'rt'))\n",
        "header_rdr = DictReader(open('sample_data/mn_headers.csv', 'rt'))\n",
        "\n",
        "data_rows = [d for d in data_rdr]\n",
        "header_rows = [h for h in header_rdr]\n",
        "\n",
        "print(data_rows[:5])\n",
        "print(header_rows[:5])"
      ]
    },
    {
      "cell_type": "code",
      "source": [
        "new_rows = []\n",
        "\n",
        "for data_dict in data_rows:\n",
        "    new_row = {}\n",
        "    for dkey, dval in data_dict.items():\n",
        "        for header_dict in header_rows:\n",
        "            if dkey in header_dict.values():\n",
        "                new_row[header_dict.get('Label')] = dval\n",
        "    new_rows.append(new_row)\n",
        "\n",
        "\n"
      ],
      "metadata": {
        "id": "HRAyAmWlc41-"
      },
      "execution_count": 10,
      "outputs": []
    },
    {
      "cell_type": "code",
      "source": [
        "print(new_rows[:5])"
      ],
      "metadata": {
        "colab": {
          "base_uri": "https://localhost:8080/"
        },
        "id": "fUBfEzM_fhDC",
        "outputId": "9281154d-45ce-455d-d213-4de6fb9ec19d"
      },
      "execution_count": 11,
      "outputs": [
        {
          "output_type": "stream",
          "name": "stdout",
          "text": [
            "[{'Cluster number': '1', 'Household number': '17', 'Line number': '1', \"Man's line number\": '1', 'Interviewer number': '14', 'Day of interview': '7', 'Month of interview': '4', 'Year of interview': '2014', \"Result of man's interview\": 'Completed', 'Field editor': '2', 'Data entry clerk': '20', 'Start of interview - Hour': '17', 'Start of interview - Minutes': '59', 'End of interview - Hour': '18', 'End of interview - Minutes': '7', 'Ever used a mobile or non-mobile phone': 'Yes', 'Mobile or non-mobile phone usage in the last 12 months': 'Yes', 'Frequency of mobile or non-mobile usage in the past month': 'Almost every day', 'Children ever born': '0', \"Woman's line number\": '1', 'Result of interview': '1', 'Area': 'Urban', 'Region': 'Bulawayo', 'Date of interview women (CMC)': '1372', 'Date of birth of woman (CMC)': '1013', 'Age': '25-29', 'Date of marriage (CMC)': '1365', 'Age at first marriage/union': '29', 'Date of birth of first child (CMC)': '1', 'Date of birth of last child (CMC)': 'NA', 'Marital/Union status': 'Currently married/in union', 'Children surviving': '0', 'Children dead': '0', 'Respondent is circumcised': 'No', 'Age at circumcision': 'NA', 'Person performing circumcision': 'NA', 'Place of circumcision': 'NA', 'Net number': 'NA', 'Mosquito net observed': 'NA', 'Brand/type of observed net': 'NA', 'Packet number': '1', 'Education': '1', 'Language of household head': '1', \"Men's sample weight\": '1', 'Wealth index score': '1.60367010204171', 'Wealth index quintiles': '5', 'Primary sampling unit': '1', 'Stratum': '1', 'Month of birth of man': '5', 'Year of birth of man': '1984', 'Age of man': '29', 'Ever attended school': 'Yes', 'Highest level of school attended': 'Higher', 'Highest grade completed at that level': '31', 'Can read part of the sentence': 'NA', 'Frequency of reading newspaper or magazine': 'Almost every day', 'Frequency of listening to the radio': 'At least once a week', 'Frequency of watching TV': 'Less than once a week', 'Ever used a computer': 'Yes', 'Computer usage in the last 12 months': 'Yes', 'Frequency of computer usage in the last month': 'Almost every day', 'Ever used internet': 'Yes', 'Internet usage in the last 12 months': 'Yes', 'Frequency of Internet usage in the past month': 'Almost every day', 'Ever fathered any children with any women': 'No', 'Age when first child was born': 'NA', 'Any sons or daughters living with you': 'NA', 'Sons living with you': 'NA', 'Daughters living with you': 'NA', 'Any sons or daughters not living with you': 'NA', 'Sons living elsewhere': 'NA', 'Daughters living elsewhere': 'NA', 'Ever had child who later died': 'No', 'Boys dead': 'NA', 'Girls dead': 'NA', 'Same biological mother': 'NA', 'Number of women respondent fathered children with': 'NA', 'Month of last birth': 'NA', 'Year of last birth': 'NA', 'If she goes out with out telling husband: wife beating justified': 'No', 'If she neglects the children: wife beating justified': 'No', 'If she argues with husband: wife beating justified': 'No', 'If she refuses sex with husband: wife beating justified': 'No', 'If she burns the food: wife beating justified': 'No', 'Currently married or living with a man': 'Yes, currently married', 'Haveing other wives or liveing with other women as if you are married': 'No (Only one)', 'How many other wives / partners living with you': 'NA', 'Ever married or lived with a woman': 'NA', 'Marital status': 'NA', 'Married or lived with a woman once or more than once': 'Only once', 'Month of first union': '9', 'Year of first union': '2013', 'Age at first union': 'NA', 'Age at first sexual intercourse': '20', 'Condom used during first sexual intercourse': 'Yes', 'Time since last sexual intercourse (unit)': 'Days ago', 'Time since last sexual intercourse (number)': '0', 'Condom used at last sexual intercourse': 'No', 'Relationship to last sexual partner': 'Wife', 'Sex with any other person in the last 12 month': 'No', 'Condom used with prior sexual partner': 'NA', 'Relationship to prior sexual partner': 'NA', 'Sex with any other man in the last 12 months': 'NA', 'Number of sex partners in last 12 months': 'NA', 'Number of sex partners in lifetime': '5', 'Ever heard of AIDS': 'Yes', 'Can avoid AIDS virus by having one uninfected partner': 'Yes', 'Can get AIDS virus through supernatural means': 'No', 'Can avoid AIDS virus by using a condom correctly every time': 'Yes', 'Can get AIDS virus from mosquito bites': 'No', 'Can get AIDS virus by sharing food with a person who has AIDS': 'No', 'Healthy-looking person may have AIDS virus': 'Yes', 'AIDS virus from mother to child during pregnancy': 'DK', 'AIDS virus from mother to child during delivery': 'Yes', 'AIDS virus from mother to child through breastfeeding': 'DK', 'Should female teacher with AIDS virus be allowed to teach in school': 'Yes', 'Would buy fresh vegetables from shopkeeper with AIDS virus': 'Yes', 'If HH member became infected with AIDS virus, would want it to remain a secret': 'No', 'Willing to care for person with AIDS in household': 'Yes', 'Ever been tested for AIDS virus': 'Yes', 'Most recent time of testing for AIDS virus': 'Less than 12 months ago', 'Received results of AIDS virus test': 'Yes', 'Know a place to get AIDS virus test': 'NA', 'Ever tried cigarette smoking': 'No', 'Age when cigarette was smoked for the first time': 'NA', 'Currently smoking cigarettes': 'NA', 'Number of cigarettes smoked in the last 24 hours': 'NA', 'Number of days when cigarettes were smoked in past month': 'NA', 'Ever tried any smoked tobacco products other than cigarettes': 'No', 'Used any smoked tobacco products during the last month': 'NA', 'Type of smoked tobacco product: Cigars': 'NA', 'Type of smoked tobacco product: Water pipe': 'NA', 'Type of smoked tobacco product: Cigarillos': 'NA', 'Type of smoked tobacco product: Pipe': 'NA', 'Type of smoked tobacco product: Other': 'NA', 'Number of days when tobacco products where smoked in past month': 'NA', 'Ever tried any form of smokeless tobacco products': 'No', 'Used any smokeless tobacco products during the last month': 'NA', 'Type of smokeless tobacco product used: Chewing tobacco': 'NA', 'Type of smokeless tobacco product used: Snuff': 'NA', 'Type of smokeless tobacco product used: Dip': 'NA', 'Type of smokeless tobacco product used: Other': 'NA', 'Number of days when smokeless tobacco products where used in past month': 'NA', 'Ever drunk alcohol': 'Yes', 'Age when alcohol was used for the first time': '16', 'Number of days when at least one drink of alcohol was used in past month': '0', 'Number of drinks usually consumed': 'NA', 'Months ago net obtained': 'NA', 'Net treated with an insecticide when obtained': 'NA', 'Net soaked or dipped since obtained': 'NA', 'Months ago net soaked or dipped': 'NA', 'Persons slept under mosquito net last night': 'NA', 'Person 1 who slept under net': 'NA', 'Person 2 who slept under net': 'NA', 'Person 3 who slept under net': 'NA', 'Person 4 who slept under net': 'NA'}, {'Cluster number': '1', 'Household number': '20', 'Line number': '1', \"Man's line number\": '1', 'Interviewer number': '14', 'Day of interview': '7', 'Month of interview': '4', 'Year of interview': '2014', \"Result of man's interview\": 'Completed', 'Field editor': '2', 'Data entry clerk': '20', 'Start of interview - Hour': '17', 'Start of interview - Minutes': '32', 'End of interview - Hour': '17', 'End of interview - Minutes': '42', 'Ever used a mobile or non-mobile phone': 'Yes', 'Mobile or non-mobile phone usage in the last 12 months': 'Yes', 'Frequency of mobile or non-mobile usage in the past month': 'Almost every day', 'Children ever born': '0', \"Woman's line number\": '2', 'Result of interview': '2', 'Area': 'Urban', 'Region': 'Bulawayo', 'Date of interview women (CMC)': '1372', 'Date of birth of woman (CMC)': '917', 'Age': '35-39', 'Date of marriage (CMC)': '1370', 'Age at first marriage/union': '37', 'Date of birth of first child (CMC)': '2', 'Date of birth of last child (CMC)': 'NA', 'Marital/Union status': 'Currently married/in union', 'Children surviving': '0', 'Children dead': '0', 'Respondent is circumcised': 'No', 'Age at circumcision': 'NA', 'Person performing circumcision': 'NA', 'Place of circumcision': 'NA', 'Net number': 'NA', 'Mosquito net observed': 'NA', 'Brand/type of observed net': 'NA', 'Packet number': '2', 'Education': '2', 'Language of household head': '2', \"Men's sample weight\": '2', 'Wealth index score': '1.54327702631422', 'Wealth index quintiles': '5', 'Primary sampling unit': '2', 'Stratum': '2', 'Month of birth of man': '5', 'Year of birth of man': '1976', 'Age of man': '37', 'Ever attended school': 'Yes', 'Highest level of school attended': 'Higher', 'Highest grade completed at that level': '31', 'Can read part of the sentence': 'NA', 'Frequency of reading newspaper or magazine': 'At least once a week', 'Frequency of listening to the radio': 'Not at all', 'Frequency of watching TV': 'Almost every day', 'Ever used a computer': 'Yes', 'Computer usage in the last 12 months': 'Yes', 'Frequency of computer usage in the last month': 'Almost every day', 'Ever used internet': 'Yes', 'Internet usage in the last 12 months': 'Yes', 'Frequency of Internet usage in the past month': 'Almost every day', 'Ever fathered any children with any women': 'No', 'Age when first child was born': 'NA', 'Any sons or daughters living with you': 'NA', 'Sons living with you': 'NA', 'Daughters living with you': 'NA', 'Any sons or daughters not living with you': 'NA', 'Sons living elsewhere': 'NA', 'Daughters living elsewhere': 'NA', 'Ever had child who later died': 'No', 'Boys dead': 'NA', 'Girls dead': 'NA', 'Same biological mother': 'NA', 'Number of women respondent fathered children with': 'NA', 'Month of last birth': 'NA', 'Year of last birth': 'NA', 'If she goes out with out telling husband: wife beating justified': 'No', 'If she neglects the children: wife beating justified': 'No', 'If she argues with husband: wife beating justified': 'No', 'If she refuses sex with husband: wife beating justified': 'No', 'If she burns the food: wife beating justified': 'No', 'Currently married or living with a man': 'Yes, currently married', 'Haveing other wives or liveing with other women as if you are married': 'No (Only one)', 'How many other wives / partners living with you': 'NA', 'Ever married or lived with a woman': 'NA', 'Marital status': 'NA', 'Married or lived with a woman once or more than once': 'Only once', 'Month of first union': '2', 'Year of first union': '2014', 'Age at first union': 'NA', 'Age at first sexual intercourse': '37', 'Condom used during first sexual intercourse': 'No', 'Time since last sexual intercourse (unit)': 'Days ago', 'Time since last sexual intercourse (number)': '0', 'Condom used at last sexual intercourse': 'No', 'Relationship to last sexual partner': 'Wife', 'Sex with any other person in the last 12 month': 'No', 'Condom used with prior sexual partner': 'NA', 'Relationship to prior sexual partner': 'NA', 'Sex with any other man in the last 12 months': 'NA', 'Number of sex partners in last 12 months': 'NA', 'Number of sex partners in lifetime': '1', 'Ever heard of AIDS': 'Yes', 'Can avoid AIDS virus by having one uninfected partner': 'Yes', 'Can get AIDS virus through supernatural means': 'No', 'Can avoid AIDS virus by using a condom correctly every time': 'Yes', 'Can get AIDS virus from mosquito bites': 'No', 'Can get AIDS virus by sharing food with a person who has AIDS': 'No', 'Healthy-looking person may have AIDS virus': 'Yes', 'AIDS virus from mother to child during pregnancy': 'No', 'AIDS virus from mother to child during delivery': 'Yes', 'AIDS virus from mother to child through breastfeeding': 'Yes', 'Should female teacher with AIDS virus be allowed to teach in school': 'Yes', 'Would buy fresh vegetables from shopkeeper with AIDS virus': 'Yes', 'If HH member became infected with AIDS virus, would want it to remain a secret': 'Yes', 'Willing to care for person with AIDS in household': 'No', 'Ever been tested for AIDS virus': 'Yes', 'Most recent time of testing for AIDS virus': 'Less than 12 months ago', 'Received results of AIDS virus test': 'Yes', 'Know a place to get AIDS virus test': 'NA', 'Ever tried cigarette smoking': 'No', 'Age when cigarette was smoked for the first time': 'NA', 'Currently smoking cigarettes': 'NA', 'Number of cigarettes smoked in the last 24 hours': 'NA', 'Number of days when cigarettes were smoked in past month': 'NA', 'Ever tried any smoked tobacco products other than cigarettes': 'No', 'Used any smoked tobacco products during the last month': 'NA', 'Type of smoked tobacco product: Cigars': 'NA', 'Type of smoked tobacco product: Water pipe': 'NA', 'Type of smoked tobacco product: Cigarillos': 'NA', 'Type of smoked tobacco product: Pipe': 'NA', 'Type of smoked tobacco product: Other': 'NA', 'Number of days when tobacco products where smoked in past month': 'NA', 'Ever tried any form of smokeless tobacco products': 'No', 'Used any smokeless tobacco products during the last month': 'NA', 'Type of smokeless tobacco product used: Chewing tobacco': 'NA', 'Type of smokeless tobacco product used: Snuff': 'NA', 'Type of smokeless tobacco product used: Dip': 'NA', 'Type of smokeless tobacco product used: Other': 'NA', 'Number of days when smokeless tobacco products where used in past month': 'NA', 'Ever drunk alcohol': 'No', 'Age when alcohol was used for the first time': 'NA', 'Number of days when at least one drink of alcohol was used in past month': 'NA', 'Number of drinks usually consumed': 'NA', 'Months ago net obtained': 'NA', 'Net treated with an insecticide when obtained': 'NA', 'Net soaked or dipped since obtained': 'NA', 'Months ago net soaked or dipped': 'NA', 'Persons slept under mosquito net last night': 'NA', 'Person 1 who slept under net': 'NA', 'Person 2 who slept under net': 'NA', 'Person 3 who slept under net': 'NA', 'Person 4 who slept under net': 'NA'}, {'Cluster number': '2', 'Household number': '1', 'Line number': '1', \"Man's line number\": '1', 'Interviewer number': '9', 'Day of interview': '8', 'Month of interview': '4', 'Year of interview': '2014', \"Result of man's interview\": 'Completed', 'Field editor': '1', 'Data entry clerk': '40', 'Start of interview - Hour': '10', 'Start of interview - Minutes': '37', 'End of interview - Hour': '10', 'End of interview - Minutes': '52', 'Ever used a mobile or non-mobile phone': 'Yes', 'Mobile or non-mobile phone usage in the last 12 months': 'Yes', 'Frequency of mobile or non-mobile usage in the past month': 'Almost every day', 'Children ever born': '3', \"Woman's line number\": '3', 'Result of interview': '3', 'Area': 'Urban', 'Region': 'Bulawayo', 'Date of interview women (CMC)': '1372', 'Date of birth of woman (CMC)': '878', 'Age': '40-44', 'Date of marriage (CMC)': '1100', 'Age at first marriage/union': '18', 'Date of birth of first child (CMC)': '3', 'Date of birth of last child (CMC)': 'NA', 'Marital/Union status': 'Currently married/in union', 'Children surviving': '3', 'Children dead': '0', 'Respondent is circumcised': 'No', 'Age at circumcision': 'NA', 'Person performing circumcision': 'NA', 'Place of circumcision': 'NA', 'Net number': 'NA', 'Mosquito net observed': 'NA', 'Brand/type of observed net': 'NA', 'Packet number': '3', 'Education': '3', 'Language of household head': '3', \"Men's sample weight\": '3', 'Wealth index score': '0.878635263695964', 'Wealth index quintiles': '4', 'Primary sampling unit': '3', 'Stratum': '3', 'Month of birth of man': '2', 'Year of birth of man': '1973', 'Age of man': '41', 'Ever attended school': 'Yes', 'Highest level of school attended': 'Primary', 'Highest grade completed at that level': '17', 'Can read part of the sentence': 'Able to read whole sentence', 'Frequency of reading newspaper or magazine': 'Not at all', 'Frequency of listening to the radio': 'Almost every day', 'Frequency of watching TV': 'Less than once a week', 'Ever used a computer': 'No', 'Computer usage in the last 12 months': 'NA', 'Frequency of computer usage in the last month': 'NA', 'Ever used internet': 'No', 'Internet usage in the last 12 months': 'NA', 'Frequency of Internet usage in the past month': 'NA', 'Ever fathered any children with any women': 'Yes', 'Age when first child was born': '21', 'Any sons or daughters living with you': 'Yes', 'Sons living with you': '1', 'Daughters living with you': '1', 'Any sons or daughters not living with you': 'Yes', 'Sons living elsewhere': '1', 'Daughters living elsewhere': '0', 'Ever had child who later died': 'No', 'Boys dead': 'NA', 'Girls dead': 'NA', 'Same biological mother': 'No', 'Number of women respondent fathered children with': '2', 'Month of last birth': '5', 'Year of last birth': '2012', 'If she goes out with out telling husband: wife beating justified': 'No', 'If she neglects the children: wife beating justified': 'No', 'If she argues with husband: wife beating justified': 'No', 'If she refuses sex with husband: wife beating justified': 'No', 'If she burns the food: wife beating justified': 'No', 'Currently married or living with a man': 'Yes, currently married', 'Haveing other wives or liveing with other women as if you are married': 'No (Only one)', 'How many other wives / partners living with you': 'NA', 'Ever married or lived with a woman': 'NA', 'Marital status': 'NA', 'Married or lived with a woman once or more than once': 'More than once', 'Month of first union': '8', 'Year of first union': '1991', 'Age at first union': 'NA', 'Age at first sexual intercourse': '20', 'Condom used during first sexual intercourse': 'No', 'Time since last sexual intercourse (unit)': 'Days ago', 'Time since last sexual intercourse (number)': '0', 'Condom used at last sexual intercourse': 'Yes', 'Relationship to last sexual partner': 'Wife', 'Sex with any other person in the last 12 month': 'No', 'Condom used with prior sexual partner': 'NA', 'Relationship to prior sexual partner': 'NA', 'Sex with any other man in the last 12 months': 'NA', 'Number of sex partners in last 12 months': 'NA', 'Number of sex partners in lifetime': '5', 'Ever heard of AIDS': 'Yes', 'Can avoid AIDS virus by having one uninfected partner': 'Yes', 'Can get AIDS virus through supernatural means': 'No', 'Can avoid AIDS virus by using a condom correctly every time': 'Yes', 'Can get AIDS virus from mosquito bites': 'No', 'Can get AIDS virus by sharing food with a person who has AIDS': 'No', 'Healthy-looking person may have AIDS virus': 'Yes', 'AIDS virus from mother to child during pregnancy': 'No', 'AIDS virus from mother to child during delivery': 'Yes', 'AIDS virus from mother to child through breastfeeding': 'No', 'Should female teacher with AIDS virus be allowed to teach in school': 'Yes', 'Would buy fresh vegetables from shopkeeper with AIDS virus': 'Yes', 'If HH member became infected with AIDS virus, would want it to remain a secret': 'No', 'Willing to care for person with AIDS in household': 'Yes', 'Ever been tested for AIDS virus': 'Yes', 'Most recent time of testing for AIDS virus': '2 or more years ago', 'Received results of AIDS virus test': 'Yes', 'Know a place to get AIDS virus test': 'NA', 'Ever tried cigarette smoking': 'Yes', 'Age when cigarette was smoked for the first time': '18', 'Currently smoking cigarettes': 'Yes', 'Number of cigarettes smoked in the last 24 hours': '10', 'Number of days when cigarettes were smoked in past month': '30', 'Ever tried any smoked tobacco products other than cigarettes': 'Yes', 'Used any smoked tobacco products during the last month': 'Yes', 'Type of smoked tobacco product: Cigars': 'NA', 'Type of smoked tobacco product: Water pipe': 'NA', 'Type of smoked tobacco product: Cigarillos': 'NA', 'Type of smoked tobacco product: Pipe': 'NA', 'Type of smoked tobacco product: Other': 'NA', 'Number of days when tobacco products where smoked in past month': '7', 'Ever tried any form of smokeless tobacco products': 'No', 'Used any smokeless tobacco products during the last month': 'NA', 'Type of smokeless tobacco product used: Chewing tobacco': 'NA', 'Type of smokeless tobacco product used: Snuff': 'NA', 'Type of smokeless tobacco product used: Dip': 'NA', 'Type of smokeless tobacco product used: Other': 'NA', 'Number of days when smokeless tobacco products where used in past month': 'NA', 'Ever drunk alcohol': 'Yes', 'Age when alcohol was used for the first time': '19', 'Number of days when at least one drink of alcohol was used in past month': '8', 'Number of drinks usually consumed': '2', 'Months ago net obtained': 'NA', 'Net treated with an insecticide when obtained': 'NA', 'Net soaked or dipped since obtained': 'NA', 'Months ago net soaked or dipped': 'NA', 'Persons slept under mosquito net last night': 'NA', 'Person 1 who slept under net': 'NA', 'Person 2 who slept under net': 'NA', 'Person 3 who slept under net': 'NA', 'Person 4 who slept under net': 'NA'}, {'Cluster number': '2', 'Household number': '1', 'Line number': '5', \"Man's line number\": '5', 'Interviewer number': '9', 'Day of interview': '12', 'Month of interview': '4', 'Year of interview': '2014', \"Result of man's interview\": 'Not at home', 'Field editor': '1', 'Data entry clerk': '40', 'Start of interview - Hour': 'NA', 'Start of interview - Minutes': 'NA', 'End of interview - Hour': 'NA', 'End of interview - Minutes': 'NA', 'Ever used a mobile or non-mobile phone': 'NA', 'Mobile or non-mobile phone usage in the last 12 months': 'NA', 'Frequency of mobile or non-mobile usage in the past month': 'NA', 'Children ever born': 'NA', \"Woman's line number\": '4', 'Result of interview': '4', 'Area': 'Urban', 'Region': 'Bulawayo', 'Date of interview women (CMC)': '1372', 'Date of birth of woman (CMC)': 'NA', 'Age': 'NA', 'Date of marriage (CMC)': 'NA', 'Age at first marriage/union': 'NA', 'Date of birth of first child (CMC)': '4', 'Date of birth of last child (CMC)': 'NA', 'Marital/Union status': 'NA', 'Children surviving': 'NA', 'Children dead': 'NA', 'Respondent is circumcised': 'NA', 'Age at circumcision': 'NA', 'Person performing circumcision': 'NA', 'Place of circumcision': 'NA', 'Net number': 'NA', 'Mosquito net observed': 'NA', 'Brand/type of observed net': 'NA', 'Packet number': '4', 'Education': '4', 'Language of household head': '4', \"Men's sample weight\": '4', 'Wealth index score': '0', 'Wealth index quintiles': '0', 'Primary sampling unit': '4', 'Stratum': '4', 'Month of birth of man': 'NA', 'Year of birth of man': 'NA', 'Age of man': 'NA', 'Ever attended school': 'NA', 'Highest level of school attended': 'NA', 'Highest grade completed at that level': 'NA', 'Can read part of the sentence': 'NA', 'Frequency of reading newspaper or magazine': 'NA', 'Frequency of listening to the radio': 'NA', 'Frequency of watching TV': 'NA', 'Ever used a computer': 'NA', 'Computer usage in the last 12 months': 'NA', 'Frequency of computer usage in the last month': 'NA', 'Ever used internet': 'NA', 'Internet usage in the last 12 months': 'NA', 'Frequency of Internet usage in the past month': 'NA', 'Ever fathered any children with any women': 'NA', 'Age when first child was born': 'NA', 'Any sons or daughters living with you': 'NA', 'Sons living with you': 'NA', 'Daughters living with you': 'NA', 'Any sons or daughters not living with you': 'NA', 'Sons living elsewhere': 'NA', 'Daughters living elsewhere': 'NA', 'Ever had child who later died': 'NA', 'Boys dead': 'NA', 'Girls dead': 'NA', 'Same biological mother': 'NA', 'Number of women respondent fathered children with': 'NA', 'Month of last birth': 'NA', 'Year of last birth': 'NA', 'If she goes out with out telling husband: wife beating justified': 'NA', 'If she neglects the children: wife beating justified': 'NA', 'If she argues with husband: wife beating justified': 'NA', 'If she refuses sex with husband: wife beating justified': 'NA', 'If she burns the food: wife beating justified': 'NA', 'Currently married or living with a man': 'NA', 'Haveing other wives or liveing with other women as if you are married': 'NA', 'How many other wives / partners living with you': 'NA', 'Ever married or lived with a woman': 'NA', 'Marital status': 'NA', 'Married or lived with a woman once or more than once': 'NA', 'Month of first union': 'NA', 'Year of first union': 'NA', 'Age at first union': 'NA', 'Age at first sexual intercourse': 'NA', 'Condom used during first sexual intercourse': 'NA', 'Time since last sexual intercourse (unit)': 'NA', 'Time since last sexual intercourse (number)': 'NA', 'Condom used at last sexual intercourse': 'NA', 'Relationship to last sexual partner': 'NA', 'Sex with any other person in the last 12 month': 'NA', 'Condom used with prior sexual partner': 'NA', 'Relationship to prior sexual partner': 'NA', 'Sex with any other man in the last 12 months': 'NA', 'Number of sex partners in last 12 months': 'NA', 'Number of sex partners in lifetime': 'NA', 'Ever heard of AIDS': 'NA', 'Can avoid AIDS virus by having one uninfected partner': 'NA', 'Can get AIDS virus through supernatural means': 'NA', 'Can avoid AIDS virus by using a condom correctly every time': 'NA', 'Can get AIDS virus from mosquito bites': 'NA', 'Can get AIDS virus by sharing food with a person who has AIDS': 'NA', 'Healthy-looking person may have AIDS virus': 'NA', 'AIDS virus from mother to child during pregnancy': 'NA', 'AIDS virus from mother to child during delivery': 'NA', 'AIDS virus from mother to child through breastfeeding': 'NA', 'Should female teacher with AIDS virus be allowed to teach in school': 'NA', 'Would buy fresh vegetables from shopkeeper with AIDS virus': 'NA', 'If HH member became infected with AIDS virus, would want it to remain a secret': 'NA', 'Willing to care for person with AIDS in household': 'NA', 'Ever been tested for AIDS virus': 'NA', 'Most recent time of testing for AIDS virus': 'NA', 'Received results of AIDS virus test': 'NA', 'Know a place to get AIDS virus test': 'NA', 'Ever tried cigarette smoking': 'NA', 'Age when cigarette was smoked for the first time': 'NA', 'Currently smoking cigarettes': 'NA', 'Number of cigarettes smoked in the last 24 hours': 'NA', 'Number of days when cigarettes were smoked in past month': 'NA', 'Ever tried any smoked tobacco products other than cigarettes': 'NA', 'Used any smoked tobacco products during the last month': 'NA', 'Type of smoked tobacco product: Cigars': 'NA', 'Type of smoked tobacco product: Water pipe': 'NA', 'Type of smoked tobacco product: Cigarillos': 'NA', 'Type of smoked tobacco product: Pipe': 'NA', 'Type of smoked tobacco product: Other': 'NA', 'Number of days when tobacco products where smoked in past month': 'NA', 'Ever tried any form of smokeless tobacco products': 'NA', 'Used any smokeless tobacco products during the last month': 'NA', 'Type of smokeless tobacco product used: Chewing tobacco': 'NA', 'Type of smokeless tobacco product used: Snuff': 'NA', 'Type of smokeless tobacco product used: Dip': 'NA', 'Type of smokeless tobacco product used: Other': 'NA', 'Number of days when smokeless tobacco products where used in past month': 'NA', 'Ever drunk alcohol': 'NA', 'Age when alcohol was used for the first time': 'NA', 'Number of days when at least one drink of alcohol was used in past month': 'NA', 'Number of drinks usually consumed': 'NA', 'Months ago net obtained': 'NA', 'Net treated with an insecticide when obtained': 'NA', 'Net soaked or dipped since obtained': 'NA', 'Months ago net soaked or dipped': 'NA', 'Persons slept under mosquito net last night': 'NA', 'Person 1 who slept under net': 'NA', 'Person 2 who slept under net': 'NA', 'Person 3 who slept under net': 'NA', 'Person 4 who slept under net': 'NA'}, {'Cluster number': '2', 'Household number': '1', 'Line number': '8', \"Man's line number\": '8', 'Interviewer number': '9', 'Day of interview': '8', 'Month of interview': '4', 'Year of interview': '2014', \"Result of man's interview\": 'Completed', 'Field editor': '1', 'Data entry clerk': '40', 'Start of interview - Hour': '10', 'Start of interview - Minutes': '53', 'End of interview - Hour': '11', 'End of interview - Minutes': '10', 'Ever used a mobile or non-mobile phone': 'Yes', 'Mobile or non-mobile phone usage in the last 12 months': 'Yes', 'Frequency of mobile or non-mobile usage in the past month': 'Almost every day', 'Children ever born': '0', \"Woman's line number\": '5', 'Result of interview': '5', 'Area': 'Urban', 'Region': 'Bulawayo', 'Date of interview women (CMC)': '1372', 'Date of birth of woman (CMC)': '1118', 'Age': '20-24', 'Date of marriage (CMC)': 'NA', 'Age at first marriage/union': 'NA', 'Date of birth of first child (CMC)': '5', 'Date of birth of last child (CMC)': 'NA', 'Marital/Union status': 'Never married/in union', 'Children surviving': '0', 'Children dead': '0', 'Respondent is circumcised': 'No', 'Age at circumcision': 'NA', 'Person performing circumcision': 'NA', 'Place of circumcision': 'NA', 'Net number': 'NA', 'Mosquito net observed': 'NA', 'Brand/type of observed net': 'NA', 'Packet number': '5', 'Education': '5', 'Language of household head': '5', \"Men's sample weight\": '5', 'Wealth index score': '0.878635263695964', 'Wealth index quintiles': '4', 'Primary sampling unit': '5', 'Stratum': '5', 'Month of birth of man': '2', 'Year of birth of man': '1993', 'Age of man': '21', 'Ever attended school': 'Yes', 'Highest level of school attended': 'Secondary', 'Highest grade completed at that level': '24', 'Can read part of the sentence': 'NA', 'Frequency of reading newspaper or magazine': 'Less than once a week', 'Frequency of listening to the radio': 'At least once a week', 'Frequency of watching TV': 'Less than once a week', 'Ever used a computer': 'No', 'Computer usage in the last 12 months': 'NA', 'Frequency of computer usage in the last month': 'NA', 'Ever used internet': 'No', 'Internet usage in the last 12 months': 'NA', 'Frequency of Internet usage in the past month': 'NA', 'Ever fathered any children with any women': 'No', 'Age when first child was born': 'NA', 'Any sons or daughters living with you': 'NA', 'Sons living with you': 'NA', 'Daughters living with you': 'NA', 'Any sons or daughters not living with you': 'NA', 'Sons living elsewhere': 'NA', 'Daughters living elsewhere': 'NA', 'Ever had child who later died': 'No', 'Boys dead': 'NA', 'Girls dead': 'NA', 'Same biological mother': 'NA', 'Number of women respondent fathered children with': 'NA', 'Month of last birth': 'NA', 'Year of last birth': 'NA', 'If she goes out with out telling husband: wife beating justified': 'No', 'If she neglects the children: wife beating justified': 'No', 'If she argues with husband: wife beating justified': 'No', 'If she refuses sex with husband: wife beating justified': 'No', 'If she burns the food: wife beating justified': 'No', 'Currently married or living with a man': 'No, not in union', 'Haveing other wives or liveing with other women as if you are married': 'NA', 'How many other wives / partners living with you': 'NA', 'Ever married or lived with a woman': 'No', 'Marital status': 'NA', 'Married or lived with a woman once or more than once': 'NA', 'Month of first union': 'NA', 'Year of first union': 'NA', 'Age at first union': 'NA', 'Age at first sexual intercourse': '19', 'Condom used during first sexual intercourse': 'Yes', 'Time since last sexual intercourse (unit)': 'Months ago', 'Time since last sexual intercourse (number)': '7', 'Condom used at last sexual intercourse': 'Yes', 'Relationship to last sexual partner': 'Girlfriend', 'Sex with any other person in the last 12 month': 'No', 'Condom used with prior sexual partner': 'NA', 'Relationship to prior sexual partner': 'NA', 'Sex with any other man in the last 12 months': 'NA', 'Number of sex partners in last 12 months': 'NA', 'Number of sex partners in lifetime': '3', 'Ever heard of AIDS': 'Yes', 'Can avoid AIDS virus by having one uninfected partner': 'Yes', 'Can get AIDS virus through supernatural means': 'No', 'Can avoid AIDS virus by using a condom correctly every time': 'Yes', 'Can get AIDS virus from mosquito bites': 'No', 'Can get AIDS virus by sharing food with a person who has AIDS': 'No', 'Healthy-looking person may have AIDS virus': 'Yes', 'AIDS virus from mother to child during pregnancy': 'Yes', 'AIDS virus from mother to child during delivery': 'Yes', 'AIDS virus from mother to child through breastfeeding': 'Yes', 'Should female teacher with AIDS virus be allowed to teach in school': 'Yes', 'Would buy fresh vegetables from shopkeeper with AIDS virus': 'Yes', 'If HH member became infected with AIDS virus, would want it to remain a secret': 'No', 'Willing to care for person with AIDS in household': 'Yes', 'Ever been tested for AIDS virus': 'Yes', 'Most recent time of testing for AIDS virus': '12-23 months ago', 'Received results of AIDS virus test': 'Yes', 'Know a place to get AIDS virus test': 'NA', 'Ever tried cigarette smoking': 'No', 'Age when cigarette was smoked for the first time': 'NA', 'Currently smoking cigarettes': 'NA', 'Number of cigarettes smoked in the last 24 hours': 'NA', 'Number of days when cigarettes were smoked in past month': 'NA', 'Ever tried any smoked tobacco products other than cigarettes': 'No', 'Used any smoked tobacco products during the last month': 'NA', 'Type of smoked tobacco product: Cigars': 'NA', 'Type of smoked tobacco product: Water pipe': 'NA', 'Type of smoked tobacco product: Cigarillos': 'NA', 'Type of smoked tobacco product: Pipe': 'NA', 'Type of smoked tobacco product: Other': 'NA', 'Number of days when tobacco products where smoked in past month': 'NA', 'Ever tried any form of smokeless tobacco products': 'No', 'Used any smokeless tobacco products during the last month': 'NA', 'Type of smokeless tobacco product used: Chewing tobacco': 'NA', 'Type of smokeless tobacco product used: Snuff': 'NA', 'Type of smokeless tobacco product used: Dip': 'NA', 'Type of smokeless tobacco product used: Other': 'NA', 'Number of days when smokeless tobacco products where used in past month': 'NA', 'Ever drunk alcohol': 'Yes', 'Age when alcohol was used for the first time': '20', 'Number of days when at least one drink of alcohol was used in past month': '10', 'Number of drinks usually consumed': '2', 'Months ago net obtained': 'NA', 'Net treated with an insecticide when obtained': 'NA', 'Net soaked or dipped since obtained': 'NA', 'Months ago net soaked or dipped': 'NA', 'Persons slept under mosquito net last night': 'NA', 'Person 1 who slept under net': 'NA', 'Person 2 who slept under net': 'NA', 'Person 3 who slept under net': 'NA', 'Person 4 who slept under net': 'NA'}]\n"
          ]
        }
      ]
    },
    {
      "cell_type": "code",
      "source": [
        "\n",
        "print(len(data_rows[0]))\n",
        "print(len(header_rows))"
      ],
      "metadata": {
        "colab": {
          "base_uri": "https://localhost:8080/"
        },
        "id": "qqZ33FplhLFu",
        "outputId": "8478c37f-f639-4fb9-b81d-fd58a3260bb4"
      },
      "execution_count": 16,
      "outputs": [
        {
          "output_type": "stream",
          "name": "stdout",
          "text": [
            "159\n",
            "209\n"
          ]
        }
      ]
    },
    {
      "cell_type": "code",
      "source": [
        "from csv import reader\n",
        "data_rdr = reader(open('sample_data/mn.csv', 'rt'))\n",
        "header_rdr = reader(open('sample_data/mn_headers_updated.csv', 'rt'))\n",
        "\n",
        "data_rows = [d for d in data_rdr]\n",
        "header_rows = [h for h in header_rdr if h[0] in data_rows[0]]\n",
        "\n",
        "print(len(header_rows))\n",
        "\n",
        "all_short_headers = [h[0] for h in header_rows]\n",
        "\n",
        "skip_index = []\n",
        "\n",
        "for header in data_rows[0]:\n",
        "    if header not in all_short_headers:\n",
        "        index = data_rows[0].index(header)\n",
        "        skip_index.append(index)\n",
        "\n",
        "new_data = []\n",
        "\n",
        "for row in data_rows[1:]:\n",
        "    new_row = []\n",
        "    for i, d in enumerate(row):\n",
        "        if i not in skip_index:\n",
        "            new_row.append(d)\n",
        "    new_data.append(new_row)\n",
        "\n",
        "zipped_data = []\n",
        "\n",
        "for drow in new_data:\n",
        "    zipped_data.append(zip(header_rows, drow))"
      ],
      "metadata": {
        "colab": {
          "base_uri": "https://localhost:8080/"
        },
        "id": "nFGih5S9haXI",
        "outputId": "b271d044-e936-4b84-ab4f-50f83b67a898"
      },
      "execution_count": 22,
      "outputs": [
        {
          "output_type": "stream",
          "name": "stdout",
          "text": [
            "152\n"
          ]
        }
      ]
    },
    {
      "cell_type": "code",
      "source": [
        "data_headers = []\n",
        "\n",
        "for i, header in enumerate(data_rows[0]):\n",
        "    if i not in skip_index:\n",
        "        data_headers.append(header)\n",
        "\n",
        "header_match = zip(data_headers, all_short_headers)\n",
        "\n",
        "print(header_match)"
      ],
      "metadata": {
        "colab": {
          "base_uri": "https://localhost:8080/"
        },
        "id": "-doIFb6ukbL3",
        "outputId": "43fe5aa9-3087-4e35-f725-91dea7196f1d"
      },
      "execution_count": 28,
      "outputs": [
        {
          "output_type": "stream",
          "name": "stdout",
          "text": [
            "<zip object at 0x7fdca45bf900>\n"
          ]
        }
      ]
    }
  ]
}